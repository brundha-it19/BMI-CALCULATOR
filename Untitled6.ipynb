{
  "nbformat": 4,
  "nbformat_minor": 0,
  "metadata": {
    "colab": {
      "name": "Untitled6.ipynb",
      "provenance": []
    },
    "kernelspec": {
      "name": "python3",
      "display_name": "Python 3"
    },
    "language_info": {
      "name": "python"
    }
  },
  "cells": [
    {
      "cell_type": "code",
      "execution_count": 2,
      "metadata": {
        "colab": {
          "base_uri": "https://localhost:8080/"
        },
        "id": "0N5ZqrQYFqSv",
        "outputId": "43990896-ac59-45d7-a461-3377bbe83d72"
      },
      "outputs": [
        {
          "output_type": "stream",
          "name": "stdout",
          "text": [
            "Enter your height in centimeters: 162\n",
            "Enter your Weight in Kg: 65\n",
            "your Body Mass Index is:  24.76756591982929\n",
            "you are Healthy\n"
          ]
        }
      ],
      "source": [
        "Height=float(input(\"Enter your height in centimeters: \"))\n",
        "Weight=float(input(\"Enter your Weight in Kg: \"))\n",
        "Height = Height/100\n",
        "BMI=Weight/(Height*Height)\n",
        "print(\"your Body Mass Index is: \",BMI)\n",
        "if(BMI>0):\n",
        "\tif(BMI<=16):\n",
        "\t\tprint(\"you are severely underweight\")\n",
        "\telif(BMI<=18.5):\n",
        "\t\tprint(\"you are underweight\")\n",
        "\telif(BMI<=25):\n",
        "\t\tprint(\"you are Healthy\")\n",
        "\telif(BMI<=30):\n",
        "\t\tprint(\"you are overweight\")\n",
        "\telse: print(\"you are severely overweight\")\n",
        "else:(\"enter valid details\")"
      ]
    }
  ]
}